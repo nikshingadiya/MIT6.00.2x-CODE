{
 "cells": [
  {
   "cell_type": "code",
   "execution_count": null,
   "metadata": {
    "ExecuteTime": {
     "end_time": "2020-05-03T09:54:04.479234Z",
     "start_time": "2020-05-03T09:54:04.462266Z"
    }
   },
   "outputs": [],
   "source": [
    "#From codereview.stackexchange.com                    \n",
    "def partitions(set_):\n",
    "    if not set_:\n",
    "        yield []\n",
    "    for i in range(2**len(set_)//2):\n",
    "        parts = [set(), set()]\n",
    "        for item in set_:\n",
    "            parts[i&1].add(item)\n",
    "            i >>= 1\n",
    "        for b in partitions(parts[1]):\n",
    "            yield [parts[0]]+b\n",
    "\n",
    "\n",
    "# This is a helper function that will fetch all of the available \n",
    "# partitions for you to use for your brute force algorithm.\n",
    "def get_partitions(set_):\n",
    "    for partition in partitions(set_):\n",
    "        yield [list(elt) for elt in partition]\n",
    "\n",
    "### Uncomment the following code  and run this file\n",
    "### to see what get_partitions does if you want to visualize it:\n",
    "\n",
    "#for item in (get_partitions(['a','b','c','d'])):\n",
    "#     print(item)"
   ]
  },
  {
   "cell_type": "code",
   "execution_count": 7,
   "metadata": {
    "ExecuteTime": {
     "end_time": "2020-10-29T08:09:36.420665Z",
     "start_time": "2020-10-29T08:09:36.399674Z"
    },
    "code_folding": []
   },
   "outputs": [
    {
     "name": "stdout",
     "output_type": "stream",
     "text": [
      "Trip list= [['nik', 'vio'], ['da', 'haro'], ['chio', 'bio'], ['jio', 'gi']]\n"
     ]
    }
   ],
   "source": [
    "#using Greedy algorithm trasport my familiy by Bus and Bus can carry certain amount weight\n",
    "myf = {\"nik\": 9, \"da\": 6, \"chio\": 5, \"bio\": 5,\n",
    "       \"haro\": 4, \"jio\": 2, \"gi\": 2 , \"vio\": 1, \"xs\": 45}  #myf=my familiy\n",
    "l6 = []\n",
    "\n",
    "\n",
    "def fun(gio, l5, limit=10):  #limit Bus carry weight \n",
    "    l4 = []\n",
    "    l7 = []\n",
    "    l4.clear()\n",
    "    total = 0\n",
    "    if((not bool(gio))):\n",
    "        return l5\n",
    "    else:\n",
    "        for key in gio.keys():\n",
    "            if(gio[key] > limit):\n",
    "                l7.append(key)\n",
    "            else:\n",
    "                if(gio[key]+total <= limit):\n",
    "                    total = total+gio[key]\n",
    "                    l4.append(key)\n",
    "\n",
    "    l5.append(l4)\n",
    "    for key in l4:\n",
    "        gio.pop(key)\n",
    "    for i in l7:\n",
    "        gio.pop(i)\n",
    "    return fun(gio, l5)\n",
    "\n",
    "\n",
    "l3 = fun(myf, l6)\n",
    "print(\"Trip list=\",l3)"
   ]
  },
  {
   "cell_type": "code",
   "execution_count": null,
   "metadata": {},
   "outputs": [],
   "source": []
  }
 ],
 "metadata": {
  "kernelspec": {
   "display_name": "Python 3",
   "language": "python",
   "name": "python3"
  },
  "language_info": {
   "codemirror_mode": {
    "name": "ipython",
    "version": 3
   },
   "file_extension": ".py",
   "mimetype": "text/x-python",
   "name": "python",
   "nbconvert_exporter": "python",
   "pygments_lexer": "ipython3",
   "version": "3.7.9"
  },
  "toc": {
   "base_numbering": 1,
   "nav_menu": {},
   "number_sections": true,
   "sideBar": true,
   "skip_h1_title": false,
   "title_cell": "Table of Contents",
   "title_sidebar": "Contents",
   "toc_cell": false,
   "toc_position": {},
   "toc_section_display": true,
   "toc_window_display": false
  }
 },
 "nbformat": 4,
 "nbformat_minor": 2
}
