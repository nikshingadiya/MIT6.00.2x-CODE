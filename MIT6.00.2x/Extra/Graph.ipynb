{
 "cells": [
  {
   "cell_type": "code",
   "execution_count": 1,
   "metadata": {
    "ExecuteTime": {
     "end_time": "2020-04-30T10:05:57.847634Z",
     "start_time": "2020-04-30T10:05:57.832652Z"
    }
   },
   "outputs": [],
   "source": [
    "class Node(object):\n",
    "    def __init__(self,name):\n",
    "       \n",
    "     self.name=name\n",
    "    def getName(self):\n",
    "        return self.name\n",
    "    def __str__(self):\n",
    "        return self.name\n",
    "        "
   ]
  },
  {
   "cell_type": "code",
   "execution_count": 2,
   "metadata": {
    "ExecuteTime": {
     "end_time": "2020-04-30T10:05:57.962644Z",
     "start_time": "2020-04-30T10:05:57.852631Z"
    }
   },
   "outputs": [],
   "source": [
    "class Edge(object):\n",
    "    def __init__(self,src,dest):\n",
    "        self.src=src\n",
    "        self.dest=dest\n",
    "    def getSource(self):\n",
    "        return self.src\n",
    "    def getDestination(self):\n",
    "        return self.dest\n",
    "    def __str__(self):\n",
    "        return self.src.getName()+'->'+self.dest.getName()\n",
    "    "
   ]
  },
  {
   "cell_type": "code",
   "execution_count": 17,
   "metadata": {
    "ExecuteTime": {
     "end_time": "2020-04-30T10:21:01.430665Z",
     "start_time": "2020-04-30T10:21:01.405668Z"
    }
   },
   "outputs": [],
   "source": [
    "class Diagraph(object):\n",
    "    def __init__(self):\n",
    "        self.edges = {}\n",
    "\n",
    "    def addNode(self, node):\n",
    "        if node in self.edges:\n",
    "            raise ValueError(\"Duplicate Node\")\n",
    "        else:\n",
    "            self.edges[node] = []\n",
    "\n",
    "    def addEdges(self, edge):\n",
    "        src = edge.getSource()\n",
    "        dest = edge.getDestination()\n",
    "        if not((src in self.edges)and (dest in self.edges)):\n",
    "            raise ValueError(\"Node not in Graph\")\n",
    "        else:\n",
    "            self.edges[src].append(dest)\n",
    "\n",
    "    def childrenof(self, node):\n",
    "        return self.edges[node]\n",
    "\n",
    "    def hashnode(self, node):\n",
    "        return node in self.edges\n",
    "\n",
    "    def getNode(self, name):\n",
    "        for i in self.edges:\n",
    "            if (i.getName() == name):\n",
    "                return i\n",
    "        raise NameError(name)\n",
    "\n",
    "    def __str__(self):\n",
    "        result = ''\n",
    "        for src in self.edges:\n",
    "            for dest in self.edges[src]:\n",
    "                result = result+src.getName()+'->'+dest.getName()+'\\n'\n",
    "        return result[:]"
   ]
  },
  {
   "cell_type": "code",
   "execution_count": 18,
   "metadata": {
    "ExecuteTime": {
     "end_time": "2020-04-30T10:21:03.805512Z",
     "start_time": "2020-04-30T10:21:03.790513Z"
    }
   },
   "outputs": [],
   "source": [
    "class Graph(Diagraph):\n",
    "    def addEdges(self, edge):\n",
    "        Diagraph.addEdges(self, edge)\n",
    "        rev = Edge(edge.getDestination(), edge. getSource())\n",
    "        Diagraph.addEdges(self, rev)"
   ]
  },
  {
   "cell_type": "code",
   "execution_count": 21,
   "metadata": {
    "ExecuteTime": {
     "end_time": "2020-04-30T10:25:59.279927Z",
     "start_time": "2020-04-30T10:25:59.259928Z"
    },
    "scrolled": true
   },
   "outputs": [
    {
     "name": "stdout",
     "output_type": "stream",
     "text": [
      "raj\n",
      "ja\n",
      "ju\n",
      "ahe\n",
      "am\n",
      "po\n",
      "gir\n",
      "raj->ahe\n",
      "raj->ju\n",
      "raj->am\n",
      "ja->raj\n",
      "ja->po\n",
      "ju->gir\n",
      "am->ju\n",
      "po->raj\n",
      "po->ju\n",
      "gir->am\n",
      "\n"
     ]
    }
   ],
   "source": [
    "\n",
    "def BuilDiagraph(graphtype):\n",
    "    global l1\n",
    "    g=graphtype()\n",
    "    for i in ('raj','ja','ju','ahe','am','po','gir'):\n",
    "        g.addNode(Node(i))\n",
    "        print(g.getNode(i))\n",
    "    g.addEdges(Edge(g.getNode('ja'),g.getNode('raj')))\n",
    "    g.addEdges(Edge(g.getNode('ja'),g.getNode('po')))\n",
    "    g.addEdges(Edge(g.getNode('po'),g.getNode('raj')))\n",
    "    g.addEdges(Edge(g.getNode('po'),g.getNode('ju')))\n",
    "    g.addEdges(Edge(g.getNode('raj'),g.getNode('ahe')))\n",
    "    g.addEdges(Edge(g.getNode('raj'),g.getNode('ju')))\n",
    "    g.addEdges(Edge(g.getNode('raj'),g.getNode('am')))\n",
    "    g.addEdges(Edge(g.getNode('am'),g.getNode('ju')))\n",
    "    g.addEdges(Edge(g.getNode('ju'),g.getNode('gir')))\n",
    "    g.addEdges(Edge(g.getNode('gir'),g.getNode('am')))\n",
    "    \n",
    "    return g\n",
    "\n",
    "    \n",
    "  \n",
    "\n",
    "   \n",
    "          \n",
    "          \n",
    "print(BuilDiagraph(Diagraph))"
   ]
  },
  {
   "cell_type": "code",
   "execution_count": 6,
   "metadata": {
    "ExecuteTime": {
     "end_time": "2020-04-30T10:05:58.396300Z",
     "start_time": "2020-04-30T10:05:58.293402Z"
    }
   },
   "outputs": [
    {
     "name": "stdout",
     "output_type": "stream",
     "text": [
      "1\n",
      "2\n"
     ]
    }
   ],
   "source": [
    "doi={1:\"nikg\",2:\"jfnj\"}\n",
    "for i in doi:\n",
    "    print(i)\n",
    "    "
   ]
  },
  {
   "cell_type": "code",
   "execution_count": 16,
   "metadata": {
    "ExecuteTime": {
     "end_time": "2020-04-30T10:19:22.417693Z",
     "start_time": "2020-04-30T10:19:22.392691Z"
    }
   },
   "outputs": [
    {
     "data": {
      "text/plain": [
       "['raj', 'ja', 'ju', 'ahe', 'ja', 'po']"
      ]
     },
     "execution_count": 16,
     "metadata": {},
     "output_type": "execute_result"
    }
   ],
   "source": [
    "l1=['raj','ja','ju','ahe','ja','po','gir']\n",
    "l1[:-1]"
   ]
  },
  {
   "cell_type": "code",
   "execution_count": 23,
   "metadata": {
    "ExecuteTime": {
     "end_time": "2020-04-30T14:02:16.237416Z",
     "start_time": "2020-04-30T14:02:16.222417Z"
    }
   },
   "outputs": [
    {
     "data": {
      "text/plain": [
       "['raj', 'ja', 'ju', 'ahe', 'ja', 'po', 'gir']"
      ]
     },
     "execution_count": 23,
     "metadata": {},
     "output_type": "execute_result"
    }
   ],
   "source": [
    "path=[]\n",
    "path=path+l1\n",
    "path"
   ]
  },
  {
   "cell_type": "code",
   "execution_count": null,
   "metadata": {},
   "outputs": [],
   "source": []
  }
 ],
 "metadata": {
  "kernelspec": {
   "display_name": "Python 3",
   "language": "python",
   "name": "python3"
  },
  "language_info": {
   "codemirror_mode": {
    "name": "ipython",
    "version": 3
   },
   "file_extension": ".py",
   "mimetype": "text/x-python",
   "name": "python",
   "nbconvert_exporter": "python",
   "pygments_lexer": "ipython3",
   "version": "3.7.9"
  },
  "toc": {
   "base_numbering": 1,
   "nav_menu": {},
   "number_sections": true,
   "sideBar": true,
   "skip_h1_title": false,
   "title_cell": "Table of Contents",
   "title_sidebar": "Contents",
   "toc_cell": false,
   "toc_position": {},
   "toc_section_display": true,
   "toc_window_display": false
  }
 },
 "nbformat": 4,
 "nbformat_minor": 2
}
