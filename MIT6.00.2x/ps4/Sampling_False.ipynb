{
 "cells": [
  {
   "cell_type": "code",
   "execution_count": 2,
   "metadata": {
    "ExecuteTime": {
     "end_time": "2021-02-05T02:57:20.025985Z",
     "start_time": "2021-02-05T02:57:14.098405Z"
    }
   },
   "outputs": [],
   "source": [
    "import statistics as st\n",
    "import random as rd\n",
    "import matplotlib.pylab as plt\n",
    "import pandas as pd\n"
   ]
  },
  {
   "cell_type": "code",
   "execution_count": 3,
   "metadata": {
    "ExecuteTime": {
     "end_time": "2021-02-05T02:57:22.265614Z",
     "start_time": "2021-02-05T02:57:20.677191Z"
    },
    "scrolled": false
   },
   "outputs": [
    {
     "name": "stdout",
     "output_type": "stream",
     "text": [
      "<class 'pandas.core.frame.DataFrame'>\n",
      "RangeIndex: 421848 entries, 0 to 421847\n",
      "Data columns (total 3 columns):\n",
      " #   Column  Non-Null Count   Dtype  \n",
      "---  ------  --------------   -----  \n",
      " 0   CITY    421848 non-null  object \n",
      " 1   TEMP    421848 non-null  float64\n",
      " 2   DATE    421848 non-null  int64  \n",
      "dtypes: float64(1), int64(1), object(1)\n",
      "memory usage: 9.7+ MB\n"
     ]
    }
   ],
   "source": [
    "temp_table=pd.read_csv(\"../data/temperatures.csv\")\n",
    "\n",
    "temp_table.info()\n",
    "k=temp_table.iloc[0:,[1]]\n",
    "l1=list(k['TEMP'])"
   ]
  },
  {
   "cell_type": "code",
   "execution_count": 162,
   "metadata": {
    "ExecuteTime": {
     "end_time": "2020-06-06T11:24:08.105553Z",
     "start_time": "2020-06-06T11:24:07.181854Z"
    }
   },
   "outputs": [
    {
     "data": {
      "text/plain": [
       "16.298769461986307"
      ]
     },
     "execution_count": 162,
     "metadata": {},
     "output_type": "execute_result"
    }
   ],
   "source": [
    "\n",
    "popmean = st.mean(l1)\n",
    "popmean\n"
   ]
  },
  {
   "cell_type": "code",
   "execution_count": 163,
   "metadata": {
    "ExecuteTime": {
     "end_time": "2020-06-06T11:24:08.941870Z",
     "start_time": "2020-06-06T11:24:08.932064Z"
    }
   },
   "outputs": [
    {
     "data": {
      "text/plain": [
       "421848"
      ]
     },
     "execution_count": 163,
     "metadata": {},
     "output_type": "execute_result"
    }
   ],
   "source": [
    "len(l1)"
   ]
  },
  {
   "cell_type": "code",
   "execution_count": 164,
   "metadata": {
    "ExecuteTime": {
     "end_time": "2020-06-06T11:24:13.409867Z",
     "start_time": "2020-06-06T11:24:09.486155Z"
    }
   },
   "outputs": [
    {
     "name": "stdout",
     "output_type": "stream",
     "text": [
      "95% confidence outside interval 0.037\n"
     ]
    }
   ],
   "source": [
    "\"for random samlping\"\n",
    "sum=0\n",
    "samplesize=200\n",
    "num_bad=0\n",
    "num_trials=1000\n",
    "l2=[]\n",
    "l3=[]\n",
    "for i in range(num_trials):\n",
    "    sample=rd.sample(l1,samplesize)\n",
    "    sample_mean=st.mean(sample)\n",
    "    l3.append(i)\n",
    "    l2.append(sample_mean)\n",
    "    se=st.stdev(sample)/(samplesize**0.5)\n",
    "    if abs(popmean-sample_mean)>1.96*se:\n",
    "        num_bad =num_bad+1\n",
    "print(\"95% confidence outside interval\",num_bad/num_trials)\n",
    "         "
   ]
  },
  {
   "cell_type": "code",
   "execution_count": 166,
   "metadata": {
    "ExecuteTime": {
     "end_time": "2020-06-06T11:44:17.513703Z",
     "start_time": "2020-06-06T11:44:13.329048Z"
    }
   },
   "outputs": [
    {
     "name": "stdout",
     "output_type": "stream",
     "text": [
      "95% confidence outside interval 0.894\n"
     ]
    }
   ],
   "source": [
    "\"for random samlping\"\n",
    "sum=0\n",
    "samplesize=200\n",
    "num_bad=0\n",
    "num_trials=1000\n",
    "for i in range(num_trials):\n",
    "    x=range(0,len(l1)-samplesize)\n",
    "    start=rd.choice(x)\n",
    "    sample=l1[start:start+samplesize]\n",
    "    sample_mean=st.mean(sample)\n",
    "    se=st.stdev(sample)/(samplesize**0.5)\n",
    "    if abs(popmean-sample_mean)>1.96*se:\n",
    "        num_bad =num_bad+1\n",
    "    \n",
    "print(\"95% confidence outside interval\",num_bad/num_trials)\n",
    "         "
   ]
  },
  {
   "cell_type": "code",
   "execution_count": 110,
   "metadata": {
    "ExecuteTime": {
     "end_time": "2020-06-06T10:20:13.475467Z",
     "start_time": "2020-06-06T10:20:13.453026Z"
    }
   },
   "outputs": [
    {
     "name": "stdout",
     "output_type": "stream",
     "text": [
      "Using matplotlib backend: Qt5Agg\n"
     ]
    }
   ],
   "source": [
    "%matplotlib "
   ]
  },
  {
   "cell_type": "code",
   "execution_count": 111,
   "metadata": {
    "ExecuteTime": {
     "end_time": "2020-06-06T10:20:14.023906Z",
     "start_time": "2020-06-06T10:20:13.478507Z"
    }
   },
   "outputs": [],
   "source": [
    "plt.hist(l2,bins=20)\n",
    "plt.show()\n"
   ]
  },
  {
   "cell_type": "code",
   "execution_count": null,
   "metadata": {},
   "outputs": [],
   "source": []
  }
 ],
 "metadata": {
  "kernelspec": {
   "display_name": "Python 3",
   "language": "python",
   "name": "python3"
  },
  "language_info": {
   "codemirror_mode": {
    "name": "ipython",
    "version": 3
   },
   "file_extension": ".py",
   "mimetype": "text/x-python",
   "name": "python",
   "nbconvert_exporter": "python",
   "pygments_lexer": "ipython3",
   "version": "3.7.9"
  },
  "toc": {
   "base_numbering": 1,
   "nav_menu": {},
   "number_sections": true,
   "sideBar": true,
   "skip_h1_title": false,
   "title_cell": "Table of Contents",
   "title_sidebar": "Contents",
   "toc_cell": false,
   "toc_position": {},
   "toc_section_display": true,
   "toc_window_display": false
  }
 },
 "nbformat": 4,
 "nbformat_minor": 4
}
