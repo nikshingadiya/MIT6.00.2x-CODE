{
 "cells": [
  {
   "cell_type": "code",
   "execution_count": 32,
   "metadata": {
    "ExecuteTime": {
     "end_time": "2020-06-10T07:08:15.546028Z",
     "start_time": "2020-06-10T07:08:15.534188Z"
    }
   },
   "outputs": [],
   "source": [
    "import numpy as np\n",
    "import pylab\n",
    "import re"
   ]
  },
  {
   "cell_type": "code",
   "execution_count": 4,
   "metadata": {
    "ExecuteTime": {
     "end_time": "2020-06-10T05:32:36.169607Z",
     "start_time": "2020-06-10T05:32:36.107204Z"
    }
   },
   "outputs": [
    {
     "data": {
      "text/plain": [
       "'\\nEnd helper code\\n'"
      ]
     },
     "execution_count": 4,
     "metadata": {},
     "output_type": "execute_result"
    }
   ],
   "source": [
    "# cities in our weather data\n",
    "CITIES = [\n",
    "    'BOSTON',\n",
    "    'SEATTLE',\n",
    "    'SAN DIEGO',\n",
    "    'PHILADELPHIA',\n",
    "    'PHOENIX',\n",
    "    'LAS VEGAS',\n",
    "    'CHARLOTTE',\n",
    "    'DALLAS',\n",
    "    'BALTIMORE',\n",
    "    'SAN JUAN',\n",
    "    'LOS ANGELES',\n",
    "    'MIAMI',\n",
    "    'NEW ORLEANS',\n",
    "    'ALBUQUERQUE',\n",
    "    'PORTLAND',\n",
    "    'SAN FRANCISCO',\n",
    "    'TAMPA',\n",
    "    'NEW YORK',\n",
    "    'DETROIT',\n",
    "    'ST LOUIS',\n",
    "    'CHICAGO'\n",
    "]\n",
    "\n",
    "INTERVAL_1 = list(range(1961, 2006))\n",
    "INTERVAL_2 = list(range(2006, 2016))\n",
    "\n",
    "\"\"\"\n",
    "Begin helper code\n",
    "\"\"\"\n",
    "\n",
    "\n",
    "class Climate(object):\n",
    "    \"\"\"\n",
    "    The collection of temperature records loaded from given csv file\n",
    "    \"\"\"\n",
    "\n",
    "    def __init__(self, filename):\n",
    "        \"\"\"\n",
    "        Initialize a Climate instance, which stores the temperature records\n",
    "        loaded from a given csv file specified by filename.\n",
    "\n",
    "        Args:\n",
    "            filename: name of the csv file (str)\n",
    "        \"\"\"\n",
    "        self.rawdata = {}\n",
    "\n",
    "        f = open(filename, 'r')\n",
    "        header = f.readline().strip().split(',')\n",
    "        for line in f:\n",
    "            items = line.strip().split(',')\n",
    "\n",
    "            date = re.match('(\\d\\d\\d\\d)(\\d\\d)(\\d\\d)',\n",
    "                            items[header.index('DATE')])\n",
    "            year = int(date.group(1))\n",
    "            month = int(date.group(2))\n",
    "            day = int(date.group(3))\n",
    "\n",
    "            city = items[header.index('CITY')]\n",
    "            temperature = float(items[header.index('TEMP')])\n",
    "            if city not in self.rawdata:\n",
    "                self.rawdata[city] = {}\n",
    "            if year not in self.rawdata[city]:\n",
    "                self.rawdata[city][year] = {}\n",
    "            if month not in self.rawdata[city][year]:\n",
    "                self.rawdata[city][year][month] = {}\n",
    "            self.rawdata[city][year][month][day] = temperature\n",
    "\n",
    "        f.close()\n",
    "\n",
    "    def get_yearly_temp(self, city, year):\n",
    "        \"\"\"\n",
    "        Get the daily temperatures for the given year and city.\n",
    "\n",
    "        Args:\n",
    "            city: city name (str)\n",
    "            year: the year to get the data for (int)\n",
    "\n",
    "        Returns:\n",
    "            a numpy 1-d array of daily temperatures for the specified year and\n",
    "            city\n",
    "        \"\"\"\n",
    "        temperatures = []\n",
    "        assert city in self.rawdata, \"provided city is not available\"\n",
    "        assert year in self.rawdata[city], \"provided year is not available\"\n",
    "        for month in range(1, 13):\n",
    "            for day in range(1, 32):\n",
    "                if day in self.rawdata[city][year][month]:\n",
    "                    temperatures.append(self.rawdata[city][year][month][day])\n",
    "        return np.array(temperatures)\n",
    "\n",
    "    def get_daily_temp(self, city, month, day, year):\n",
    "        \"\"\"\n",
    "        Get the daily temperature for the given city and time (year + date).\n",
    "\n",
    "        Args:\n",
    "            city: city name (str)\n",
    "            month: the month to get the data for (int, where January = 1,\n",
    "                December = 12)\n",
    "            day: the day to get the data for (int, where 1st day of month = 1)\n",
    "            year: the year to get the data for (int)\n",
    "\n",
    "        Returns:\n",
    "            a float of the daily temperature for the specified time (year +\n",
    "            date) and city\n",
    "        \"\"\"\n",
    "        assert city in self.rawdata, \"provided city is not available\"\n",
    "        assert year in self.rawdata[city], \"provided year is not available\"\n",
    "        assert month in self.rawdata[city][year], \"provided month is not available\"\n",
    "        assert day in self.rawdata[city][year][month], \"provided day is not available\"\n",
    "        return self.rawdata[city][year][month][day]\n",
    "\n",
    "\n",
    "\"\"\"\n",
    "End helper code\n",
    "\"\"\""
   ]
  },
  {
   "cell_type": "code",
   "execution_count": 11,
   "metadata": {
    "ExecuteTime": {
     "end_time": "2020-06-10T05:39:41.796667Z",
     "start_time": "2020-06-10T05:39:41.775746Z"
    }
   },
   "outputs": [],
   "source": [
    "# Problem 1\n",
    "def generate_models(x, y, degs):\n",
    "    \"\"\"\n",
    "    Generate regression models by fitting a polynomial for each degree in degs\n",
    "    to points (x, y).\n",
    "    Args:\n",
    "        x: a list with length N, representing the x-coords of N sample points\n",
    "        y: a list with length N, representing the y-coords of N sample points\n",
    "        degs: a list of degrees of the fitting polynomial\n",
    "    Returns:\n",
    "        a list of numpy arrays, where each array is a 1-d array of coefficients\n",
    "        that minimizes the squared error of the fitting polynomial\n",
    "    \"\"\"\n",
    "    x=np.array(x)\n",
    "    y=np.array(y)\n",
    "    l1=[]\n",
    "    for i in degs:\n",
    "        l1.append(np.polyfit(x,y,i))\n",
    "        \n",
    "    return l1\n",
    "        \n"
   ]
  },
  {
   "cell_type": "code",
   "execution_count": 18,
   "metadata": {
    "ExecuteTime": {
     "end_time": "2020-06-10T05:58:49.020748Z",
     "start_time": "2020-06-10T05:58:49.009334Z"
    }
   },
   "outputs": [
    {
     "data": {
      "text/plain": [
       "6.333333333333333"
      ]
     },
     "execution_count": 18,
     "metadata": {},
     "output_type": "execute_result"
    }
   ],
   "source": [
    "x=[1,2,3,4,5,6]\n",
    "y=[12,3,4,5,6,8]\n",
    "generate_models(x, y, [1,2])\n",
    "y_mean=np.mean(y)\n",
    "y_mean"
   ]
  },
  {
   "cell_type": "code",
   "execution_count": 15,
   "metadata": {
    "ExecuteTime": {
     "end_time": "2020-06-10T05:56:14.959526Z",
     "start_time": "2020-06-10T05:56:14.937999Z"
    }
   },
   "outputs": [],
   "source": [
    "import numpy as np\n",
    "\n",
    "def r_squared(y, estimated):\n",
    "    \"\"\"\n",
    "    Calculate the R-squared error term.\n",
    "    Args:\n",
    "        y: list with length N, representing the y-coords of N sample points\n",
    "        estimated: a list of values estimated by the regression model\n",
    "    Returns:\n",
    "        a float for the R-squared error term\n",
    "    \"\"\"\n",
    "    y_mean=np.mean(y)\n",
    "    r=0\n",
    "    t1=0\n",
    "    t2=0\n",
    "    for i in range(len(y)):\n",
    "        t1=t1+(y[i]-estimated[i])**2\n",
    "        t2=t2+(y[i]-y_mean)**2\n",
    "    r=1-(t1/t2)    \n",
    "    return r\n",
    "        "
   ]
  },
  {
   "cell_type": "code",
   "execution_count": null,
   "metadata": {},
   "outputs": [],
   "source": []
  },
  {
   "cell_type": "code",
   "execution_count": 33,
   "metadata": {
    "ExecuteTime": {
     "end_time": "2020-06-10T07:08:25.909029Z",
     "start_time": "2020-06-10T07:08:21.580081Z"
    },
    "scrolled": true
   },
   "outputs": [
    {
     "name": "stdout",
     "output_type": "stream",
     "text": [
      "0.00510293463608491\n"
     ]
    },
    {
     "data": {
      "image/png": "[encoded data removed]",
      "text/plain": [
       "<Figure size 432x288 with 1 Axes>"
      ]
     },
     "metadata": {
      "needs_background": "light"
     },
     "output_type": "display_data"
    }
   ],
   "source": [
    "# Problem 3\n",
    "def evaluate_models_on_training(x, y, models):\n",
    "    \"\"\"\n",
    "    For each regression model, compute the R-square for this model with the\n",
    "    standard error over slope of a linear regression line (only if the model is\n",
    "    linear), and plot the data along with the best fit curve.\n",
    "\n",
    "    For the plots, you should plot data points (x,y) as blue dots and your best\n",
    "    fit curve (aka model) as a red solid line. You should also label the axes\n",
    "    of this figure appropriately and have a title reporting the following\n",
    "    information:\n",
    "        degree of your regression model,\n",
    "        R-square of your model evaluated on the given data points\n",
    "    Args:\n",
    "        x: a list of length N, representing the x-coords of N sample points\n",
    "        y: a list of length N, representing the y-coords of N sample points\n",
    "        models: a list containing the regression models you want to apply to\n",
    "            your data. Each model is a numpy array storing the coefficients of\n",
    "            a polynomial.\n",
    "    Returns:\n",
    "        None\n",
    "    \"\"\"\n",
    "    l1=[]\n",
    "    for i in x:\n",
    "        l1.append(models[0][0]*i+models[0][1])\n",
    "\n",
    "    pylab.scatter(x,y)\n",
    "    pylab.plot(x,l1,'r')\n",
    "    print(r_squared(y,l1))\n",
    "    # TODO\n",
    "    pass\n",
    "\n",
    "\n",
    "# Begining of program\n",
    "raw_data = Climate('data.csv')\n",
    "\n",
    "# Problem 3\n",
    "y = []\n",
    "x = INTERVAL_1\n",
    "for year in INTERVAL_1:\n",
    "    y.append(raw_data.get_daily_temp('BOSTON', 1, 10, year))\n",
    "models = generate_models(x, y, [1])\n",
    "evaluate_models_on_training(x, y, models)\n",
    "\n",
    "\n"
   ]
  },
  {
   "cell_type": "code",
   "execution_count": 35,
   "metadata": {
    "ExecuteTime": {
     "end_time": "2020-06-10T07:08:36.237050Z",
     "start_time": "2020-06-10T07:08:35.936623Z"
    }
   },
   "outputs": [
    {
     "name": "stdout",
     "output_type": "stream",
     "text": [
      "0.08532422267808348\n"
     ]
    },
    {
     "data": {
      "image/png": "[encoded data removed]",
      "text/plain": [
       "<Figure size 432x288 with 1 Axes>"
      ]
     },
     "metadata": {
      "needs_background": "light"
     },
     "output_type": "display_data"
    }
   ],
   "source": [
    "# Problem 4: FILL IN MISSING CODE TO GENERATE y VALUES\n",
    "x1 = INTERVAL_1\n",
    "x2 = INTERVAL_2\n",
    "y = []\n",
    "for year in INTERVAL_1:\n",
    "    y.append(np.mean(raw_data.get_yearly_temp('BOSTON', year)))\n",
    "models = generate_models(x, y, [1])\n",
    "evaluate_models_on_training(x, y, models)"
   ]
  },
  {
   "cell_type": "code",
   "execution_count": null,
   "metadata": {
    "ExecuteTime": {
     "end_time": "2020-06-10T05:35:12.766859Z",
     "start_time": "2020-06-10T05:35:12.744144Z"
    }
   },
   "outputs": [],
   "source": []
  },
  {
   "cell_type": "code",
   "execution_count": null,
   "metadata": {},
   "outputs": [],
   "source": []
  }
 ],
 "metadata": {
  "kernelspec": {
   "display_name": "Python 3",
   "language": "python",
   "name": "python3"
  },
  "language_info": {
   "codemirror_mode": {
    "name": "ipython",
    "version": 3
   },
   "file_extension": ".py",
   "mimetype": "text/x-python",
   "name": "python",
   "nbconvert_exporter": "python",
   "pygments_lexer": "ipython3",
   "version": "3.7.9"
  },
  "toc": {
   "base_numbering": 1,
   "nav_menu": {},
   "number_sections": true,
   "sideBar": true,
   "skip_h1_title": false,
   "title_cell": "Table of Contents",
   "title_sidebar": "Contents",
   "toc_cell": false,
   "toc_position": {},
   "toc_section_display": true,
   "toc_window_display": false
  }
 },
 "nbformat": 4,
 "nbformat_minor": 4
}
